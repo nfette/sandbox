{
 "cells": [
  {
   "cell_type": "code",
   "execution_count": 21,
   "metadata": {},
   "outputs": [
    {
     "data": {
      "image/png": "[encoded data removed]",
      "text/latex": [
       "$$\\Delta$$"
      ],
      "text/plain": [
       "Δ"
      ]
     },
     "execution_count": 21,
     "metadata": {},
     "output_type": "execute_result"
    }
   ],
   "source": [
    "import sympy\n",
    "sympy.init_printing()\n",
    "sympy.Symbol('Delta')"
   ]
  },
  {
   "cell_type": "code",
   "execution_count": 22,
   "metadata": {
    "collapsed": true
   },
   "outputs": [],
   "source": [
    "Delta_T, Delta_T_0, C_cold, C_hot, Qhat, Q, q = sympy.symbols('Delta_T Delta_T_0 C_cold C_hot Qhat Q q')"
   ]
  },
  {
   "cell_type": "code",
   "execution_count": 23,
   "metadata": {},
   "outputs": [
    {
     "data": {
      "image/png": "[encoded data removed]",
      "text/latex": [
       "$$\\frac{1}{\\Delta_{T 0} - \\frac{\\hat{Q}}{C_{cold}}}$$"
      ],
      "text/plain": [
       "      1       \n",
       "──────────────\n",
       "          Q̂  \n",
       "Δ_T_0 - ──────\n",
       "        C_cold"
      ]
     },
     "execution_count": 23,
     "metadata": {},
     "output_type": "execute_result"
    }
   ],
   "source": [
    "term0 = 1/(Delta_T_0 - Qhat / C_cold)\n",
    "term0"
   ]
  },
  {
   "cell_type": "code",
   "execution_count": 33,
   "metadata": {},
   "outputs": [
    {
     "data": {
      "image/png": "[encoded data removed]",
      "text/latex": [
       "$$C_{cold} \\left(\\log{\\left (- C_{cold} \\Delta_{T 0} \\right )} - \\log{\\left (- C_{cold} \\Delta_{T 0} + Q \\right )}\\right)$$"
      ],
      "text/plain": [
       "C_cold⋅(log(-C_cold⋅Δ_T_0) - log(-C_cold⋅Δ_T_0 + Q))"
      ]
     },
     "execution_count": 33,
     "metadata": {},
     "output_type": "execute_result"
    }
   ],
   "source": [
    "term0_int = sympy.integrate(term0, (Qhat, 0, Q)).simplify()\n",
    "term0_int"
   ]
  },
  {
   "cell_type": "code",
   "execution_count": 37,
   "metadata": {},
   "outputs": [
    {
     "data": {
      "image/png": "[encoded data removed]",
      "text/latex": [
       "$$\\Delta_{T 0} - q \\left(- \\frac{1}{C_{hot}} + \\frac{1}{C_{cold}}\\right) - \\frac{\\hat{Q}}{C_{hot}}$$"
      ],
      "text/plain": [
       "          ⎛   1       1   ⎞    Q̂ \n",
       "Δ_T_0 - q⋅⎜- ──── + ──────⎟ - ────\n",
       "          ⎝  Cₕₒₜ   C_cold⎠   Cₕₒₜ"
      ]
     },
     "execution_count": 37,
     "metadata": {},
     "output_type": "execute_result"
    }
   ],
   "source": [
    "Delta_T = Delta_T_0 - (Qhat/C_hot + q*(1/C_cold - 1/C_hot))\n",
    "Delta_T"
   ]
  },
  {
   "cell_type": "code",
   "execution_count": 41,
   "metadata": {},
   "outputs": [
    {
     "data": {
      "image/png": "[encoded data removed]",
      "text/latex": [
       "$$- \\frac{C_{cold}^{2} C_{hot}}{C_{cold}^{2} C_{hot} \\Delta_{T 0} - C_{cold}^{2} \\hat{Q} - C_{cold} C_{hot}^{2} \\Delta_{T 0} + C_{cold} C_{hot} \\hat{Q} + \\hat{Q} \\left(C_{cold}^{2} - 2 C_{cold} C_{hot} + C_{hot}^{2}\\right)} + \\frac{C_{cold}^{2} C_{hot}}{C_{cold}^{2} C_{hot} \\Delta_{T 0} - C_{cold}^{2} \\hat{Q} - C_{cold} C_{hot}^{2} \\Delta_{T 0} + C_{cold} C_{hot} \\hat{Q}}$$"
      ],
      "text/plain": [
       "                                                        2                     \n",
       "                                                  C_cold ⋅Cₕₒₜ                \n",
       "- ────────────────────────────────────────────────────────────────────────────\n",
       "        2                    2                 2                             ⎛\n",
       "  C_cold ⋅Cₕₒₜ⋅Δ_T_0 - C_cold ⋅Q̂ - C_cold⋅Cₕₒₜ ⋅Δ_T_0 + C_cold⋅Cₕₒₜ⋅Q̂ + Q̂⋅⎝\n",
       "\n",
       "                                                                      2       \n",
       "                                                                C_cold ⋅Cₕₒₜ  \n",
       "──────────────────────────────── + ───────────────────────────────────────────\n",
       "      2                       2⎞         2                    2               \n",
       "C_cold  - 2⋅C_cold⋅Cₕₒₜ + Cₕₒₜ ⎠   C_cold ⋅Cₕₒₜ⋅Δ_T_0 - C_cold ⋅Q̂ - C_cold⋅Cₕ\n",
       "\n",
       "                          \n",
       "                          \n",
       "──────────────────────────\n",
       "  2                       \n",
       "ₒₜ ⋅Δ_T_0 + C_cold⋅Cₕₒₜ⋅Q̂"
      ]
     },
     "execution_count": 41,
     "metadata": {},
     "output_type": "execute_result"
    }
   ],
   "source": [
    "term1 = sympy.integrate(1/(C_hot * Delta_T * Delta_T), (q, 0, Qhat))\n",
    "term1"
   ]
  },
  {
   "cell_type": "code",
   "execution_count": 42,
   "metadata": {},
   "outputs": [
    {
     "data": {
      "image/png": "[encoded data removed]",
      "text/latex": [
       "$$2 \\tilde{\\infty} C_{cold}^{3}$$"
      ],
      "text/plain": [
       "            3\n",
       "2⋅zoo⋅C_cold "
      ]
     },
     "execution_count": 42,
     "metadata": {},
     "output_type": "execute_result"
    }
   ],
   "source": [
    "term1.subs(C_hot, C_cold)"
   ]
  },
  {
   "cell_type": "code",
   "execution_count": null,
   "metadata": {
    "collapsed": true
   },
   "outputs": [],
   "source": [
    "term1_int = sympy.integrate(term1, (Qhat))"
   ]
  }
 ],
 "metadata": {
  "kernelspec": {
   "display_name": "Python 3",
   "language": "python",
   "name": "python3"
  },
  "language_info": {
   "codemirror_mode": {
    "name": "ipython",
    "version": 3
   },
   "file_extension": ".py",
   "mimetype": "text/x-python",
   "name": "python",
   "nbconvert_exporter": "python",
   "pygments_lexer": "ipython3",
   "version": "3.6.2"
  }
 },
 "nbformat": 4,
 "nbformat_minor": 2
}
